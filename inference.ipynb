{
 "cells": [
  {
   "cell_type": "code",
   "execution_count": null,
   "metadata": {},
   "outputs": [],
   "source": [
    "# Basic packages\n",
    "import os\n",
    "import torch\n",
    "import numpy as np\n",
    "import platform\n",
    "# Import options\n",
    "from config import get_options\n",
    "from configx_cfg import get_cfg_options\n",
    "# Import agent class\n",
    "from designx import DesignX, ConfigX\n",
    "# import Modular-EC modules\n",
    "from components.operators import *\n",
    "from env.optimizer_env import Optimizer\n",
    "\n",
    "from utils.utils import set_seed\n",
    "from utils.make_dataset import get_test_problems\n",
    "from utils.plots import display_optimizer\n",
    "set_seed(2025)"
   ]
  },
  {
   "cell_type": "markdown",
   "metadata": {},
   "source": [
    "Firstly let's load the models of Agent-1 and Agent-2:"
   ]
  },
  {
   "cell_type": "code",
   "execution_count": null,
   "metadata": {},
   "outputs": [],
   "source": [
    "# Load Agent-1\n",
    "load_path_1 = \"models/Agent-1.pt\"\n",
    "agent_1 = DesignX()\n",
    "agent_1.load(load_path_1)\n",
    "agent_1.eval()\n",
    "\n",
    "# Load Agent-2\n",
    "load_path_2 = \"models/epoch-12.pt\"\n",
    "agent_2 = ConfigX()\n",
    "agent_2.load(load_path_2)\n",
    "agent_2.eval()"
   ]
  },
  {
   "cell_type": "markdown",
   "metadata": {},
   "source": [
    "Now we get the 20 testing problems presented in the paper:"
   ]
  },
  {
   "cell_type": "code",
   "execution_count": null,
   "metadata": {},
   "outputs": [],
   "source": [
    "test_problems = get_test_problems()"
   ]
  },
  {
   "cell_type": "markdown",
   "metadata": {},
   "source": [
    "Then we calculate the ELA featuers of these problems:"
   ]
  },
  {
   "cell_type": "code",
   "execution_count": null,
   "metadata": {},
   "outputs": [],
   "source": [
    "ela_feature = agent_1.get_ELA_features(test_problems)"
   ]
  },
  {
   "cell_type": "code",
   "execution_count": null,
   "metadata": {},
   "outputs": [],
   "source": [
    "_, _, modules, _, _ = agent_1.forward(ela_feature, rollout=True)"
   ]
  },
  {
   "cell_type": "markdown",
   "metadata": {},
   "source": [
    "Let's display the structure of the generated optimizer for the first problem:"
   ]
  },
  {
   "cell_type": "code",
   "execution_count": null,
   "metadata": {},
   "outputs": [],
   "source": [
    "display_optimizer(modules[0])"
   ]
  },
  {
   "cell_type": "markdown",
   "metadata": {},
   "source": [
    "Process the modules and construct the RL environment (Optimizer)"
   ]
  },
  {
   "cell_type": "code",
   "execution_count": null,
   "metadata": {},
   "outputs": [],
   "source": [
    "envs = []\n",
    "for problem, module in zip(test_problems, modules):\n",
    "    envs.append(Optimizer(problem, copy.deepcopy(module)))"
   ]
  },
  {
   "cell_type": "markdown",
   "metadata": {},
   "source": [
    "Now we can optimize the problems with the generated optimizers controlled by Agent-2:"
   ]
  },
  {
   "cell_type": "code",
   "execution_count": null,
   "metadata": {},
   "outputs": [],
   "source": [
    "_, cost, _ = agent_2.rollout(envs, repeat=19)\n",
    "print(np.mean(cost, -1))"
   ]
  }
 ],
 "metadata": {
  "kernelspec": {
   "display_name": "pytorch-1.13.1",
   "language": "python",
   "name": "python3"
  },
  "language_info": {
   "codemirror_mode": {
    "name": "ipython",
    "version": 3
   },
   "file_extension": ".py",
   "mimetype": "text/x-python",
   "name": "python",
   "nbconvert_exporter": "python",
   "pygments_lexer": "ipython3",
   "version": "3.9.18"
  }
 },
 "nbformat": 4,
 "nbformat_minor": 2
}
