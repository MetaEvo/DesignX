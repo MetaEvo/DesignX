{
 "cells": [
  {
   "cell_type": "code",
   "execution_count": 1,
   "metadata": {},
   "outputs": [],
   "source": [
    "# Basic packages\n",
    "import os\n",
    "import torch\n",
    "import numpy as np\n",
    "import platform\n",
    "# Import options\n",
    "from config import get_options\n",
    "from configx_cfg import get_cfg_options\n",
    "# Import agent class\n",
    "from designx import DesignX, ConfigX\n",
    "# Import Modular-EC modules\n",
    "from components.operators import *\n",
    "from env.optimizer_env import Optimizer\n",
    "\n",
    "from utils.utils import set_seed\n",
    "from utils.make_dataset import get_test_problems\n",
    "from utils.plots import display_optimizer\n",
    "set_seed(2025)"
   ]
  },
  {
   "cell_type": "markdown",
   "metadata": {},
   "source": [
    "Firstly let's load the models of Agent-1 and Agent-2:"
   ]
  },
  {
   "cell_type": "code",
   "execution_count": 2,
   "metadata": {},
   "outputs": [
    {
     "name": "stdout",
     "output_type": "stream",
     "text": [
      "Load 116 sub-modules.\n",
      " [*] Loading data from models/Agent-1.pt\n",
      " [*] Loading data from models/Agent-2.pt\n"
     ]
    }
   ],
   "source": [
    "# Load Agent-1\n",
    "load_path_1 = \"models/Agent-1.pt\"\n",
    "agent_1 = DesignX()\n",
    "agent_1.load(load_path_1)\n",
    "agent_1.eval()\n",
    "\n",
    "# Load Agent-2\n",
    "load_path_2 = \"models/Agent-2.pt\"\n",
    "agent_2 = ConfigX()\n",
    "agent_2.load(load_path_2)\n",
    "agent_2.eval()"
   ]
  },
  {
   "cell_type": "markdown",
   "metadata": {},
   "source": [
    "Now we get the 20 testing problems presented in the paper:"
   ]
  },
  {
   "cell_type": "code",
   "execution_count": 3,
   "metadata": {},
   "outputs": [
    {
     "name": "stderr",
     "output_type": "stream",
     "text": [
      "Dataset generating: 100%|██████████| 12800/12800 [00:09<00:00, 1350.38it/s]\n"
     ]
    }
   ],
   "source": [
    "test_problems = get_test_problems()"
   ]
  },
  {
   "cell_type": "markdown",
   "metadata": {},
   "source": [
    "Then we calculate the ELA featuers of these problems:"
   ]
  },
  {
   "cell_type": "code",
   "execution_count": 4,
   "metadata": {},
   "outputs": [
    {
     "name": "stderr",
     "output_type": "stream",
     "text": [
      "2025-05-16 12:34:42,353\tINFO worker.py:1888 -- Started a local Ray instance.\n",
      "/share/home/202210188530/DesignX_github/designx.py:177: UserWarning: Creating a tensor from a list of numpy.ndarrays is extremely slow. Please consider converting the list to a single numpy.ndarray with numpy.array() before converting to a tensor. (Triggered internally at /opt/conda/conda-bld/pytorch_1716905987344/work/torch/csrc/utils/tensor_new.cpp:274.)\n",
      "  ela_features = torch.concat([torch.tensor(elas).to(opts.device), torch.tensor(problem_info).float().to(opts.device)], -1).to(opts.device)\n"
     ]
    }
   ],
   "source": [
    "ela_feature = agent_1.get_ELA_features(test_problems)"
   ]
  },
  {
   "cell_type": "markdown",
   "metadata": {},
   "source": [
    "And construct the optimizer using Agent-1 with the ELA features"
   ]
  },
  {
   "cell_type": "code",
   "execution_count": 5,
   "metadata": {},
   "outputs": [
    {
     "name": "stderr",
     "output_type": "stream",
     "text": []
    },
    {
     "name": "stderr",
     "output_type": "stream",
     "text": []
    }
   ],
   "source": [
    "_, _, modules, _, _ = agent_1.forward(ela_feature, rollout=True)"
   ]
  },
  {
   "cell_type": "markdown",
   "metadata": {},
   "source": [
    "Let's display the structure of the generated optimizer for the first problem:"
   ]
  },
  {
   "cell_type": "code",
   "execution_count": 6,
   "metadata": {},
   "outputs": [
    {
     "name": "stdout",
     "output_type": "stream",
     "text": [
      "Halton_Init\n",
      " |\n",
      " |\n",
      "Distance_Nich\n",
      " |-------------------------------------------------\n",
      " |                                                |                                                                                        \n",
      "Pop_Size_50                                      Pop_Size_50                                                                               \n",
      " |                                                |                                               \n",
      " |                                                |                                                                                        \n",
      "Multi_strategy                                   Multi_strategy                                                                            \n",
      " |   |-------------------------                   |   |-------------------------                  \n",
      " |   |        |               |                   |   |        |               |                                                           \n",
      " |  rand2    current2best    current2rand         |  rand2    current2best    current2rand                                                 \n",
      " |                                                |                                               \n",
      " |                                                |                                                                                        \n",
      "binomial                                         binomial                                                                                  \n",
      " |                                                |                                               \n",
      " |                                                |                                                                                        \n",
      "Clip_BC                                          Clip_BC                                                                                   \n",
      " |                                                |                                               \n",
      " |                                                |                                                                                        \n",
      "DE_like                                          DE_like                                                                                   \n",
      " |                                                |                                               \n",
      " |                                                |                                                                                        \n",
      "Linear                                           Linear                                                                                    \n",
      " |                                                |                                               \n",
      " |                                                |                                                                                        \n",
      "Reduce_Size_5                                    Reduce_Size_5                                                                             \n",
      "\n"
     ]
    }
   ],
   "source": [
    "display_optimizer(modules[0])"
   ]
  },
  {
   "cell_type": "markdown",
   "metadata": {},
   "source": [
    "We can see that the optimizer contains two DE sub-population with the same population sizes of 50 and the same modules. They use a multi-strategy mutation module consist with three DE mutations: rand2, current-to-best and current-to-rand, followed by the Binomial crossover. Then the offsprings are clipped at the bounds. After evaluation (omitted here) they are compared with their own parents and the better ones survive (DE_like selection). Both sub-popuations are then linearly reduced. Their sizes will be 5 at the end of optimization. \n",
    "\n",
    "Next we process the modules and construct the RL environment (Optimizer)"
   ]
  },
  {
   "cell_type": "code",
   "execution_count": 7,
   "metadata": {},
   "outputs": [],
   "source": [
    "envs = []\n",
    "for problem, module in zip(test_problems, modules):\n",
    "    envs.append(Optimizer(problem, copy.deepcopy(module)))"
   ]
  },
  {
   "cell_type": "markdown",
   "metadata": {},
   "source": [
    "Now we can optimize the problems with the generated optimizers controlled by Agent-2:"
   ]
  },
  {
   "cell_type": "code",
   "execution_count": 8,
   "metadata": {},
   "outputs": [
    {
     "name": "stdout",
     "output_type": "stream",
     "text": [
      "[2.76765134e-01 9.95316205e-01 6.30237516e-07 7.13348330e+02\n",
      " 8.11819934e-02 1.13021784e-01 4.79314537e-01 1.67693685e-01\n",
      " 6.97923514e-01 1.84801786e+02 1.41202553e+00 1.09955729e+00\n",
      " 1.24060114e+01 1.36108945e+01 2.20516120e-02 3.37304171e-02\n",
      " 6.82325656e-04 1.72687261e-01 6.66170850e+00 8.95662427e+01]\n"
     ]
    }
   ],
   "source": [
    "_, cost, _ = agent_2.rollout(envs)\n",
    "print(np.mean(cost, -1))"
   ]
  },
  {
   "cell_type": "code",
   "execution_count": null,
   "metadata": {},
   "outputs": [],
   "source": []
  }
 ],
 "metadata": {
  "kernelspec": {
   "display_name": "pytorch-1.13.1",
   "language": "python",
   "name": "python3"
  },
  "language_info": {
   "codemirror_mode": {
    "name": "ipython",
    "version": 3
   },
   "file_extension": ".py",
   "mimetype": "text/x-python",
   "name": "python",
   "nbconvert_exporter": "python",
   "pygments_lexer": "ipython3",
   "version": "3.9.18"
  }
 },
 "nbformat": 4,
 "nbformat_minor": 2
}
